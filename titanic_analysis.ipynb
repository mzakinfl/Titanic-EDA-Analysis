{
 "cells": [
  {
   "cell_type": "markdown",
   "id": "cc4b090e",
   "metadata": {},
   "source": [
    "# Analisis Dataset Titanic\n",
    "\n",
    "Notebook ini berisi eksplorasi data Titanic untuk memahami pola dan insight dari data tersebut."
   ]
  },
  {
   "cell_type": "code",
   "execution_count": null,
   "id": "aa76b3fd",
   "metadata": {},
   "outputs": [],
   "source": [
    "import pandas as pd\n",
    "import numpy as np\n",
    "import matplotlib.pyplot as plt\n",
    "import seaborn as sns\n",
    "\n",
    "# Konfigurasi visualisasi\n",
    "sns.set_style('whitegrid')\n",
    "plt.rcParams['figure.figsize'] = (10, 6)"
   ]
  },
  {
   "cell_type": "markdown",
   "id": "0c552fbf",
   "metadata": {},
   "source": [
    "## 1. Memuat Dataset"
   ]
  },
  {
   "cell_type": "code",
   "execution_count": null,
   "id": "3c2bf7da",
   "metadata": {},
   "outputs": [],
   "source": [
    "df = sns.load_dataset('titanic')\n",
    "df.head()"
   ]
  },
  {
   "cell_type": "markdown",
   "id": "8dd96f57",
   "metadata": {},
   "source": [
    "## 2. Eksplorasi Data Awal"
   ]
  },
  {
   "cell_type": "code",
   "execution_count": null,
   "id": "24bde27b",
   "metadata": {},
   "outputs": [],
   "source": [
    "df.info()\n",
    "\n",
    "df.describe()\n",
    "\n",
    "df.isnull().sum()"
   ]
  },
  {
   "cell_type": "markdown",
   "id": "cd1a4e35",
   "metadata": {},
   "source": [
    "## 3. Visualisasi Data"
   ]
  },
  {
   "cell_type": "code",
   "execution_count": null,
   "id": "cd62ff24",
   "metadata": {},
   "outputs": [],
   "source": [
    "sns.histplot(df['age'], bins=30, kde=True)\n",
    "plt.title('Distribusi Usia Penumpang Titanic')\n",
    "plt.show()"
   ]
  },
  {
   "cell_type": "code",
   "execution_count": null,
   "id": "54dd672f",
   "metadata": {},
   "outputs": [],
   "source": [
    "sns.countplot(x='survived', data=df, palette='coolwarm')\n",
    "plt.title('Jumlah Penumpang yang Selamat vs Tidak Selamat')\n",
    "plt.xticks(ticks=[0,1], labels=['Tidak Selamat', 'Selamat'])\n",
    "plt.show()"
   ]
  },
  {
   "cell_type": "code",
   "execution_count": null,
   "id": "1d52a59c",
   "metadata": {},
   "outputs": [],
   "source": [
    "sns.heatmap(df.corr(), annot=True, cmap='coolwarm', fmt='.2f')\n",
    "plt.title('Korelasi Antar Fitur Numerik')\n",
    "plt.show()"
   ]
  },
  {
   "cell_type": "code",
   "execution_count": null,
   "id": "0f5c52de",
   "metadata": {},
   "outputs": [],
   "source": [
    "sns.barplot(x='class', y='survived', data=df, palette='viridis')\n",
    "plt.title('Tingkat Keselamatan Berdasarkan Kelas Tiket')\n",
    "plt.show()"
   ]
  },
  {
   "cell_type": "markdown",
   "id": "b8882419",
   "metadata": {},
   "source": [
    "## 4. Insight dari Data"
   ]
  },
  {
   "cell_type": "code",
   "execution_count": null,
   "id": "9dc4db6e",
   "metadata": {},
   "outputs": [],
   "source": [
    "insight = \"\"\"\n",
    "1. Distribusi usia menunjukkan mayoritas penumpang berusia antara 20-40 tahun.\n",
    "2. Lebih banyak penumpang yang tidak selamat dibandingkan yang selamat.\n",
    "3. Ada korelasi negatif antara tarif tiket dan kelangsungan hidup (Semakin mahal tiket, semakin besar peluang selamat).\n",
    "4. Penumpang kelas 1 memiliki tingkat keselamatan tertinggi dibandingkan kelas 2 dan 3.\n",
    "\"\"\"\n",
    "print(insight)"
   ]
  }
 ],
 "metadata": {
  "colab": {
   "provenance": []
  },
  "kernelspec": {
   "display_name": "Python 3",
   "name": "python3"
  },
  "language_info": {
   "name": "python"
  }
 },
 "nbformat": 4,
 "nbformat_minor": 0
}
